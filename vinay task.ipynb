{
  "cells": [
    {
      "cell_type": "markdown",
      "id": "ebb2cf09",
      "metadata": {
        "id": "ebb2cf09"
      },
      "source": [
        "\n",
        "#### General Instruction\n",
        "- Read data into Jupyter notebook using pandas to import data into a data frame. \n",
        "- Your submission should be commented on appropriately. Use the markdown cells in the iPython notebook to prepare your report. \n",
        "- Fifty percent of the grade is based on your Python code submission. The other 50 percent of your grade is based on the evaluation score of the prediction. \n",
        "- The exam should be syntax error-free. Run your code before the submission. \n",
        "\n",
        "#### Required Tasks\n",
        "- Explore each data set using different descriptive and plotting methods. \n",
        "- Explore each dataset, check for missing data, and apply proper data imputation methods. \n",
        "- Apply the same preprocessing techniques on the classification_test and regression_test. Note that these two datasets don't have target columns. \n",
        "- Scale each dataset. Explain your choice of data scaling method. \n",
        "- Apply clustering methods discussed in class to study the structure of each dataset. Discuss how the outcome of clustering will help you better understand the structure of data. Provide result interpretation for each clustering model. \n",
        "- Regression dataset: Apply all the regression models you have learned in this class. Discuss the results and outcomes. Models with hyperparameters explain how you find the best value of the hyperparameters. \n",
        "- Find the best regression model among the list of models trained on the regression_train dataset. Use this model to predict the target values of the regression_test. \n",
        "- Find the best classification model among the list of models trained on the classification_train dataset. Use this model to predict the target values of the classification_test. \n",
        "\n",
        "\n",
        "#### Devliverable\n",
        "Submit ONLY the iPython notebook(s) or the .py file(s) of your work. Use the following frame for your submission. Please don't remove the headers in the following structure. \n",
        "\n",
        "Make sure to list the name and student id of all the group members in your iPython notebook file. \n",
        "\n",
        "#### Rubric\n",
        "| Descriptio | Fair | Good | excelent |\n",
        "|:-----------|:------|:------|:----------|\n",
        "|Preprocessing|Demonstrate limited understanding of preprocessing steps | Demonstrate a moderate ability to find a way to apply the preprocessing step to prepare the dataset for Machine learning models | Demonstrate the ability to choose the appropriate preprocessing model to prepare the dataset |\n",
        "|learning model | Demonstrate limited understanding of methods used to train learning models | Demonstrate the ability to understand techniques used to train learning models with some effectiveness. This includes optimization algorithms, initialization, regularization, and hyperparameter search methods | Demonstrate ability to understand and apply various algorithms as well as initialization, regularization, and hyperparameter search methods |\n",
        "|Final prediction |Demonstrate limited understanding of strategies to structure and end to end machine learning project | Demonstrate ability to understand classic ML strategies such as error analysis, data split, data collection and evaluation metric selection with some effectiveness | Demonstrates ability to structure the project and apply methods such as error analysis, data split, data collection, design a labeling process and select proper evaluation metrics to improve performance."
      ]
    },
    {
      "cell_type": "markdown",
      "id": "5dac9a6a",
      "metadata": {
        "id": "5dac9a6a"
      },
      "source": [
        "# Regression\n",
        "\n",
        "### Data preparation"
      ]
    },
    {
      "cell_type": "code",
      "execution_count": null,
      "id": "632f0fe4",
      "metadata": {
        "id": "632f0fe4"
      },
      "outputs": [],
      "source": []
    },
    {
      "cell_type": "markdown",
      "id": "e8a261a9",
      "metadata": {
        "id": "e8a261a9"
      },
      "source": [
        "### Regression model training"
      ]
    },
    {
      "cell_type": "code",
      "execution_count": null,
      "id": "a1073d5f",
      "metadata": {
        "id": "a1073d5f"
      },
      "outputs": [],
      "source": []
    },
    {
      "cell_type": "markdown",
      "id": "d12a2d04",
      "metadata": {
        "id": "d12a2d04"
      },
      "source": [
        "### Regression prediction"
      ]
    },
    {
      "cell_type": "code",
      "execution_count": null,
      "id": "3699ccc9",
      "metadata": {
        "id": "3699ccc9"
      },
      "outputs": [],
      "source": []
    },
    {
      "cell_type": "markdown",
      "id": "98f107df",
      "metadata": {
        "id": "98f107df"
      },
      "source": [
        "# Classification\n",
        "\n",
        "### Data preparation"
      ]
    },
    {
      "cell_type": "code",
      "execution_count": null,
      "id": "bf6c95c5",
      "metadata": {
        "id": "bf6c95c5"
      },
      "outputs": [],
      "source": []
    },
    {
      "cell_type": "markdown",
      "id": "7e1612bb",
      "metadata": {
        "id": "7e1612bb"
      },
      "source": [
        "### Classification model training"
      ]
    },
    {
      "cell_type": "code",
      "execution_count": null,
      "id": "90801c3c",
      "metadata": {
        "id": "90801c3c"
      },
      "outputs": [],
      "source": []
    },
    {
      "cell_type": "markdown",
      "id": "02a20890",
      "metadata": {
        "id": "02a20890"
      },
      "source": [
        "### Classification prediction"
      ]
    },
    {
      "cell_type": "code",
      "execution_count": null,
      "id": "1fdbf064",
      "metadata": {
        "id": "1fdbf064"
      },
      "outputs": [],
      "source": []
    }
  ],
  "metadata": {
    "kernelspec": {
      "display_name": "Python 3 (ipykernel)",
      "language": "python",
      "name": "python3"
    },
    "language_info": {
      "codemirror_mode": {
        "name": "ipython",
        "version": 3
      },
      "file_extension": ".py",
      "mimetype": "text/x-python",
      "name": "python",
      "nbconvert_exporter": "python",
      "pygments_lexer": "ipython3",
      "version": "3.11.2"
    },
    "colab": {
      "provenance": []
    }
  },
  "nbformat": 4,
  "nbformat_minor": 5
}